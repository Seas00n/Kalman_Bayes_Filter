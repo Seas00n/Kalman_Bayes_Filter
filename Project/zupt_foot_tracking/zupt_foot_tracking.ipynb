{
 "cells": [
  {
   "attachments": {},
   "cell_type": "markdown",
   "metadata": {},
   "source": [
    "# ZUPT(Zero Velocity Update) For Foot Tracking\n",
    "ZUPT被广泛使用于可穿戴设备的误差限制中\n",
    "\n",
    "通过使用卡尔曼滤波器等估计滤波器定期停止并观察速度误差，ZUPT 技术可以修正用户的速度，限制位置和姿态误差，并进一步估计传感器偏置误差。\n",
    "\n",
    "最开始的ZUPT是一种批处理平滑算法，因此无法用于实时处理，只能从正向滤波的出发向后递推。\n"
   ]
  },
  {
   "attachments": {},
   "cell_type": "markdown",
   "metadata": {},
   "source": [
    "## Basic ZUPT\n",
    "\n",
    "通过相关算法从加速度和陀螺仪计算得到IMU姿态后，在每次判断运动停止后，通过一个Kalman滤波器来根据实际速度和期望零速度的误差来对估计导航误差。在持续运动中，误差只进行Prediction，在停止时才进行Update.\n"
   ]
  }
 ],
 "metadata": {
  "language_info": {
   "name": "python"
  },
  "orig_nbformat": 4
 },
 "nbformat": 4,
 "nbformat_minor": 2
}
